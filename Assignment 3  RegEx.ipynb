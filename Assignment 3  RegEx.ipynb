{
 "cells": [
  {
   "cell_type": "markdown",
   "id": "ee236cdd",
   "metadata": {},
   "source": [
    "Name - Jaykant Kumar \n",
    "Internship Number – DS2405\n",
    "Project 3. RegEx\n",
    "\n",
    "Internship Program\n",
    "Flip Robo Technology\n",
    "\n",
    "Date: 26/05/2024\n",
    "\n"
   ]
  },
  {
   "cell_type": "code",
   "execution_count": 1,
   "id": "fb84d2f2",
   "metadata": {},
   "outputs": [
    {
     "name": "stdout",
     "output_type": "stream",
     "text": [
      "Python:Exercises::PHP:exercises:\n"
     ]
    }
   ],
   "source": [
    "#Question 1- Write a Python program to replace all occurrences of a space, comma, or dot with a colon.\n",
    "Sample Text- 'Python Exercises, PHP exercises.'\n",
    "Expected Output: Python:Exercises::PHP:exercises:\n",
    "\n",
    "\n",
    "import re\n",
    "text = 'Python Exercises, PHP exercises.'\n",
    "print(re.sub(\"[ ,.]\", \":\", text))\n"
   ]
  },
  {
   "cell_type": "code",
   "execution_count": null,
   "id": "d2fa2c74",
   "metadata": {},
   "outputs": [],
   "source": [
    "#Question 2-  Create a dataframe using the dictionary below and remove everything (commas (,), !, XXXX, ;, etc.) from the columns except words.\n",
    "Dictionary- {'SUMMARY' : ['hello, world!', 'XXXXX test', '123four, five:; six...']}\n",
    "Expected output-\n",
    "0      hello world\n",
    "1             test\n",
    "2    four five six\n",
    "\n"
   ]
  },
  {
   "cell_type": "code",
   "execution_count": 49,
   "id": "4cf941b7",
   "metadata": {},
   "outputs": [
    {
     "name": "stdout",
     "output_type": "stream",
     "text": [
      "         SUMMARY\n",
      "0    hello world\n",
      "1     XXXXX test\n",
      "2  four five six\n"
     ]
    }
   ],
   "source": [
    "import pandas as pd\n",
    "import re\n",
    "\n",
    "data = {'SUMMARY': ['hello, world!', 'XXXXX test', '123four, five:; six...']}\n",
    "df = pd.DataFrame(data)\n",
    "df['SUMMARY'] = df['SUMMARY'].str.replace('[^a-zA-Z\\s]', '', regex=True)\n",
    "print(df)"
   ]
  },
  {
   "cell_type": "code",
   "execution_count": null,
   "id": "b36da881",
   "metadata": {},
   "outputs": [],
   "source": [
    "#Question 3- Create a function in python to find all words that are at least 4 characters long in a string. The use of the re.compile() method is mandatory."
   ]
  },
  {
   "cell_type": "code",
   "execution_count": 66,
   "id": "e69b466f",
   "metadata": {},
   "outputs": [
    {
     "name": "stdout",
     "output_type": "stream",
     "text": [
      "['quick', 'brown', 'jumps', 'over', 'lazy']\n"
     ]
    }
   ],
   "source": [
    "import re\n",
    "text = 'The quick brown fox jumps over the lazy dog.'\n",
    "print(re.findall(r\"\\b\\w{4,}\\b\", text))"
   ]
  },
  {
   "cell_type": "code",
   "execution_count": 67,
   "id": "7a3c5d80",
   "metadata": {},
   "outputs": [],
   "source": [
    "#Question 4- Create a function in python to find all three, four, and five character words in a string. The use of the re.compile() method is mandatory."
   ]
  },
  {
   "cell_type": "code",
   "execution_count": 4,
   "id": "54f800ee",
   "metadata": {},
   "outputs": [],
   "source": [
    "import re\n",
    "\n",
    "def find_words(string):\n",
    "    pattern = re.compile(r'\\b\\w{3,5}\\b')\n",
    "    matches = pattern.findall(string)\n",
    "    return matches"
   ]
  },
  {
   "cell_type": "code",
   "execution_count": null,
   "id": "0e9edc48",
   "metadata": {},
   "outputs": [],
   "source": [
    "#Question 5- Create a function in Python to remove the parenthesis in a list of strings. The use of the re.compile() method is mandatory.\n",
    "Sample Text: [\"example (.com)\", \"hr@fliprobo (.com)\", \"github (.com)\", \"Hello (Data Science World)\", \"Data (Scientist)\"]\n",
    "Expected Output:\n",
    "example.com\n",
    "hr@fliprobo.com\n",
    "github.com\n",
    "Hello Data Science World\n",
    "Data Scientist\n"
   ]
  },
  {
   "cell_type": "code",
   "execution_count": 27,
   "id": "3deb7087",
   "metadata": {},
   "outputs": [
    {
     "name": "stdout",
     "output_type": "stream",
     "text": [
      "example.com\n",
      "hr@fliprobo.com\n",
      "github.com\n",
      "Hello Data Science  World\n",
      "Data Scientist \n"
     ]
    }
   ],
   "source": [
    "import re\n",
    "def remove_parenthesis(text): \n",
    "     for item in text: \n",
    "        re_parenthesis=re.compile(r\" ?\\(| ?\\)\") \n",
    "        print(re_parenthesis.sub(\"\", item)) \n",
    "                \n",
    "items = [\"example (.com)\", \"hr@fliprobo (.com)\", \"github (.com)\", \"Hello ( Data Science  World)\", \"Data  (Scientist) \"]\n",
    "remove_parenthesis(items) \n",
    "                "
   ]
  },
  {
   "cell_type": "code",
   "execution_count": null,
   "id": "eb5811a6",
   "metadata": {},
   "outputs": [],
   "source": [
    "#Question 6- Write a python program to remove the parenthesis area from the text stored in the text file using Regular Expression.\n",
    "Sample Text: [\"example (.com)\", \"hr@fliprobo (.com)\", \"github (.com)\", \"Hello (Data Science World)\", \"Data (Scientist)\"]\n",
    "Expected Output: [\"example\", \"hr@fliprobo\", \"github\", \"Hello\", \"Data\"]\n",
    "Note- Store given sample text in the text file and then to remove the parenthesis area from the text.\n"
   ]
  },
  {
   "cell_type": "code",
   "execution_count": null,
   "id": "14001029",
   "metadata": {},
   "outputs": [],
   "source": [
    "import re \n",
    "\n",
    "with open('filename.txt', 'r') as file:\n",
    "    text = file.read()  \n",
    "new_text = re.sub(r\"\\s*\\([^)]*\\)\", \"\", text)\n",
    "print(new_text)"
   ]
  },
  {
   "cell_type": "code",
   "execution_count": null,
   "id": "6163462a",
   "metadata": {},
   "outputs": [],
   "source": [
    "#Question 7- Write a regular expression in Python to split a string into uppercase letters.\n",
    "Sample text: “ImportanceOfRegularExpressionsInPython”\n",
    "Expected Output: [‘Importance’, ‘Of’, ‘Regular’, ‘Expression’, ‘In’, ‘Python’]\n"
   ]
  },
  {
   "cell_type": "code",
   "execution_count": 35,
   "id": "7f649936",
   "metadata": {},
   "outputs": [
    {
     "name": "stdout",
     "output_type": "stream",
     "text": [
      "['Importance', 'Of', 'Regular@', 'Expressions', 'In', 'Python']\n"
     ]
    }
   ],
   "source": [
    "import re\n",
    "\n",
    "text= \"ImportanceOfRegular@ExpressionsInPython\" \n",
    "upper_case = [s for s in re.split(\"([A-Z][^A-Z]*)\", text) if s] \n",
    "print(upper_case)"
   ]
  },
  {
   "cell_type": "code",
   "execution_count": null,
   "id": "d0ad217b",
   "metadata": {},
   "outputs": [],
   "source": [
    "#Question 8- Create a function in python to insert spaces between words starting with numbers.\n",
    "Sample Text: “RegularExpression1IsAn2ImportantTopic3InPython\"\n",
    "Expected Output: RegularExpression 1IsAn 2ImportantTopic 3InPython\n"
   ]
  },
  {
   "cell_type": "code",
   "execution_count": 36,
   "id": "4b3073ea",
   "metadata": {},
   "outputs": [
    {
     "name": "stdout",
     "output_type": "stream",
     "text": [
      "RegularExpression 1IsAn 2ImportantTopic 3InPython\n"
     ]
    }
   ],
   "source": [
    "import re\n",
    "def numbers_spaces(str1):   \n",
    "    return re.sub(r\"(\\w)([0-9])\", r\"\\1 \\2\", str1) \n",
    "print(numbers_spaces(\"RegularExpression1IsAn2ImportantTopic3InPython\"))"
   ]
  },
  {
   "cell_type": "code",
   "execution_count": null,
   "id": "9931dba4",
   "metadata": {},
   "outputs": [],
   "source": [
    "#Question 9- Create a function in python to insert spaces between words starting with capital letters or with numbers.\n",
    "Sample Text: “RegularExpression1IsAn2ImportantTopic3InPython\"\n",
    "Expected Output:  RegularExpression 1 IsAn 2 ImportantTopic 3 InPython\n"
   ]
  },
  {
   "cell_type": "code",
   "execution_count": 37,
   "id": "65fa849c",
   "metadata": {},
   "outputs": [
    {
     "name": "stdout",
     "output_type": "stream",
     "text": [
      "Regular Expression 1 Is An 2 Important Topic 3 In Python\n"
     ]
    }
   ],
   "source": [
    "import re\n",
    "\n",
    "def Insert_space(string):     \n",
    "    words = re.findall(r\"[0-9]|[A-Z][a-z]*\", string)     \n",
    "    print(' '.join(words)) \n",
    "Insert_space(\"RegularExpression1IsAn2ImportantTopic3InPython\") "
   ]
  },
  {
   "cell_type": "code",
   "execution_count": null,
   "id": "ebf268ab",
   "metadata": {},
   "outputs": [],
   "source": [
    "#Question 10- Use the github link below to read the data and create a dataframe. After creating the dataframe extract the first 6 letters of each country and store in the dataframe under a new column called first_five_letters.\n",
    "Github Link-  https://raw.githubusercontent.com/dsrscientist/DSData/master/happiness_score_dataset.csv\n"
   ]
  },
  {
   "cell_type": "code",
   "execution_count": null,
   "id": "4aaceaa2",
   "metadata": {},
   "outputs": [],
   "source": []
  },
  {
   "cell_type": "code",
   "execution_count": null,
   "id": "fb2236e4",
   "metadata": {},
   "outputs": [],
   "source": []
  },
  {
   "cell_type": "code",
   "execution_count": null,
   "id": "96c55dac",
   "metadata": {},
   "outputs": [],
   "source": [
    "#Question 11- Write a Python program to match a string that contains only upper and lowercase letters, numbers, and underscores."
   ]
  },
  {
   "cell_type": "code",
   "execution_count": 46,
   "id": "62430a58",
   "metadata": {},
   "outputs": [],
   "source": [
    "import re\n",
    "def text_match(text):        \n",
    "    patterns = '[a-zA-Z]+[0-9_]+'         \n",
    "    x=re.findall(patterns,  text)         \n",
    "    if x:                 \n",
    "        print(x)                 \n",
    "        return 'Found a match!\\n'        \n",
    "    else:                \n",
    "        return('Not matched!')  \n",
    "    print(text_match(\"The quick brown fox jumps over the lazy dog named xYz_123.\")) \n",
    "    print(text_match(\"Python_Exercises_1\")) "
   ]
  },
  {
   "cell_type": "code",
   "execution_count": null,
   "id": "d161924c",
   "metadata": {},
   "outputs": [],
   "source": []
  },
  {
   "cell_type": "code",
   "execution_count": 47,
   "id": "abc1f6bb",
   "metadata": {},
   "outputs": [],
   "source": [
    "#Question 12- Write a Python program where a string will start with a specific number. "
   ]
  },
  {
   "cell_type": "code",
   "execution_count": 53,
   "id": "e3522735",
   "metadata": {},
   "outputs": [],
   "source": [
    "import re\n",
    "def match_num(string):     \n",
    "    text = re.compile(r\"^5\")     \n",
    "    if text.match(string):        \n",
    "        return True     \n",
    "    else:        \n",
    "        return False \n",
    "    print(match_num('5-2345861')) \n",
    "    print(match_num('6-2345861')) "
   ]
  },
  {
   "cell_type": "code",
   "execution_count": null,
   "id": "96ccad55",
   "metadata": {},
   "outputs": [],
   "source": []
  },
  {
   "cell_type": "code",
   "execution_count": 54,
   "id": "a1614dbc",
   "metadata": {},
   "outputs": [],
   "source": [
    "#Question 13- Write a Python program to remove leading zeros from an IP address"
   ]
  },
  {
   "cell_type": "code",
   "execution_count": 56,
   "id": "d0efa1c2",
   "metadata": {},
   "outputs": [
    {
     "name": "stdout",
     "output_type": "stream",
     "text": [
      "216.8.94.196\n"
     ]
    }
   ],
   "source": [
    "import re \n",
    "\n",
    "ip = \"216.08.094.196\" \n",
    "string = re.sub('\\.[0]*', '.', ip) \n",
    "print(string)"
   ]
  },
  {
   "cell_type": "code",
   "execution_count": null,
   "id": "92fc7946",
   "metadata": {},
   "outputs": [],
   "source": [
    "#Question 14- Write a regular expression in python to match a date string in the form of Month name followed by day number and year stored in a text file.\n",
    "Sample text :  ' On August 15th 1947 that India was declared independent from British colonialism, and the reins of control were handed over to the leaders of the Country’.\n",
    "Expected Output- August 15th 1947\n",
    "Note- Store given sample text in the text file and then extract the date string asked format.\n"
   ]
  },
  {
   "cell_type": "code",
   "execution_count": null,
   "id": "e003fea4",
   "metadata": {},
   "outputs": [],
   "source": [
    "import re\n",
    "\n"
   ]
  },
  {
   "cell_type": "code",
   "execution_count": null,
   "id": "3ea8caef",
   "metadata": {},
   "outputs": [],
   "source": []
  },
  {
   "cell_type": "code",
   "execution_count": null,
   "id": "58e60321",
   "metadata": {},
   "outputs": [],
   "source": [
    "#Question 15- Write a Python program to search some literals strings in a string. \n",
    "Sample text : 'The quick brown fox jumps over the lazy dog.'\n",
    "Searched words : 'fox', 'dog', 'horse'\n"
   ]
  },
  {
   "cell_type": "code",
   "execution_count": 57,
   "id": "ef6afbec",
   "metadata": {},
   "outputs": [
    {
     "ename": "SyntaxError",
     "evalue": "invalid syntax (3611102399.py, line 8)",
     "output_type": "error",
     "traceback": [
      "\u001b[1;36m  Cell \u001b[1;32mIn[57], line 8\u001b[1;36m\u001b[0m\n\u001b[1;33m    else:\u001b[0m\n\u001b[1;37m    ^\u001b[0m\n\u001b[1;31mSyntaxError\u001b[0m\u001b[1;31m:\u001b[0m invalid syntax\n"
     ]
    }
   ],
   "source": [
    "import re\n",
    "\n",
    "patterns = [ 'fox', 'dog', 'horse' ] \n",
    "text = 'The quick brown fox jumps over the lazy dog.' \n",
    "for pattern in patterns:     \n",
    "    print('Searching for \"%s\" in \"%s\" ->' % (pattern, text))     \n",
    "    if re.search(pattern,  text):         \n",
    "        print('Matched!\\n')     \n",
    "        else:         \n",
    "            print('Not Matched!') "
   ]
  },
  {
   "cell_type": "code",
   "execution_count": null,
   "id": "d6ef36d4",
   "metadata": {},
   "outputs": [],
   "source": [
    "#Question 16- Write a Python program to search a literals string in a string and also find the location within the original string where the pattern occurs\n",
    "Sample text : 'The quick brown fox jumps over the lazy dog.'\n",
    "Searched words : 'fox'\n"
   ]
  },
  {
   "cell_type": "code",
   "execution_count": 60,
   "id": "21812555",
   "metadata": {},
   "outputs": [
    {
     "name": "stdout",
     "output_type": "stream",
     "text": [
      "Found \"fox\" in \"The quick brown fox jumps over the lazy dog.\" from 16 to 19 \n"
     ]
    }
   ],
   "source": [
    "import re\n",
    "pattern = 'fox' \n",
    "text = 'The quick brown fox jumps over the lazy dog.' \n",
    "match = re.search(pattern, text) \n",
    "s = match.start() \n",
    "e = match.end() \n",
    "print('Found \"%s\" in \"%s\" from %d to %d ' % (match.re.pattern, match.string, s, e))"
   ]
  },
  {
   "cell_type": "code",
   "execution_count": null,
   "id": "e63cce63",
   "metadata": {},
   "outputs": [],
   "source": [
    "#Question 17- Write a Python program to find the substrings within a string.\n",
    "Sample text : 'Python exercises, PHP exercises, C# exercises'\n",
    "Pattern : 'exercises'.\n"
   ]
  },
  {
   "cell_type": "code",
   "execution_count": 61,
   "id": "7cfc1459",
   "metadata": {},
   "outputs": [
    {
     "name": "stdout",
     "output_type": "stream",
     "text": [
      "Found \"exercises\"\n",
      "Found \"exercises\"\n",
      "Found \"exercises\"\n"
     ]
    }
   ],
   "source": [
    "import re\n",
    "text = 'Python exercises, PHP exercises, C# exercises' \n",
    "pattern = 'exercises' \n",
    "for match in re.findall(pattern, text):     \n",
    "    print('Found \"%s\"' % match)"
   ]
  },
  {
   "cell_type": "code",
   "execution_count": null,
   "id": "2a5d2bca",
   "metadata": {},
   "outputs": [],
   "source": [
    "#Question 18- Write a Python program to find the occurrence and position of the substrings within a string."
   ]
  },
  {
   "cell_type": "code",
   "execution_count": 62,
   "id": "177f3d24",
   "metadata": {},
   "outputs": [
    {
     "name": "stdout",
     "output_type": "stream",
     "text": [
      "Found \"exercises\" at 7:16\n",
      "Found \"exercises\" at 22:31\n",
      "Found \"exercises\" at 36:45\n"
     ]
    }
   ],
   "source": [
    "import re\n",
    "text = 'Python exercises, PHP exercises, C# exercises' \n",
    "pattern = 'exercises' \n",
    "for match in re.finditer(pattern, text):     \n",
    "    s = match.start()     \n",
    "    e = match.end()     \n",
    "    print('Found \"%s\" at %d:%d' % (text[s:e], s, e)) "
   ]
  },
  {
   "cell_type": "code",
   "execution_count": null,
   "id": "e2ee9832",
   "metadata": {},
   "outputs": [],
   "source": [
    "#Question 19- Write a Python program to convert a date of yyyy-mm-dd format to dd-mm-yyyy format."
   ]
  },
  {
   "cell_type": "code",
   "execution_count": 63,
   "id": "9dae3486",
   "metadata": {},
   "outputs": [
    {
     "name": "stdout",
     "output_type": "stream",
     "text": [
      "Original date in YYY-MM-DD Format:  2026-01-02\n",
      "New date in DD-MM-YYYY Format:  02-01-2026\n"
     ]
    }
   ],
   "source": [
    "import re\n",
    "def change_date_format(dt):         \n",
    "    return re.sub(r'(\\d{4})-(\\d{1,2})-(\\d{1,2})', '\\\\3-\\\\2-\\\\1', dt) \n",
    "dt1 = \"2026-01-02\" \n",
    "print(\"Original date in YYY-MM-DD Format: \",dt1) \n",
    "print(\"New date in DD-MM-YYYY Format: \",change_date_format(dt1))"
   ]
  },
  {
   "cell_type": "code",
   "execution_count": null,
   "id": "99f68272",
   "metadata": {},
   "outputs": [],
   "source": [
    "#Question 20- Create a function in python to find all decimal numbers with a precision of 1 or 2 in a string. The use of the re.compile() method is mandatory.\n",
    "Sample Text: \"01.12 0132.123 2.31875 145.8 3.01 27.25 0.25\"\n",
    "Expected Output: ['01.12', '145.8', '3.01', '27.25', '0.25']\n"
   ]
  },
  {
   "cell_type": "code",
   "execution_count": 65,
   "id": "5cded336",
   "metadata": {},
   "outputs": [
    {
     "name": "stdout",
     "output_type": "stream",
     "text": [
      "['01.12', '145.8', '3.01', '27.25', '0.25']\n"
     ]
    }
   ],
   "source": [
    "import re\n",
    "def decimal_with_precision(string): \n",
    "    \n",
    "    deci_num = re.compile(r\"\\b([0-9]+\\.[0-9]{1,2})\\b\")   \n",
    "    result = deci_num.findall(text)   \n",
    "    print(result)  \n",
    "    \n",
    "text= \"01.12 0132.123 2.31875 145.8 3.01 27.25 0.25\" \n",
    "decimal_with_precision(text) "
   ]
  },
  {
   "cell_type": "code",
   "execution_count": null,
   "id": "dbbae5e6",
   "metadata": {},
   "outputs": [],
   "source": [
    "#Question 21- Write a Python program to separate and print the numbers and their position of a given string."
   ]
  },
  {
   "cell_type": "code",
   "execution_count": 73,
   "id": "f2070a59",
   "metadata": {},
   "outputs": [
    {
     "name": "stdout",
     "output_type": "stream",
     "text": [
      "50\n",
      "Index position: 62\n",
      "4\n",
      "Index position: 75\n"
     ]
    }
   ],
   "source": [
    "import re\n",
    "\n",
    "text = \"The following example creates an ArrayList with a capacity of 50 elements. 4 ele\"\n",
    "\n",
    "for m in re.finditer(\"\\d+\", text): \n",
    "    print(m.group(0))\n",
    "    print(\"Index position:\", m.start()) \n",
    "        "
   ]
  },
  {
   "cell_type": "code",
   "execution_count": null,
   "id": "75d6ca2a",
   "metadata": {},
   "outputs": [],
   "source": [
    "#Question 22- Write a regular expression in python program to extract maximum/largest numeric value from a string.\n",
    "Sample Text:  'My marks in each semester are: 947, 896, 926, 524, 734, 950, 642'\n",
    "Expected Output: 950\n"
   ]
  },
  {
   "cell_type": "code",
   "execution_count": 76,
   "id": "47130775",
   "metadata": {},
   "outputs": [
    {
     "name": "stdout",
     "output_type": "stream",
     "text": [
      "['947', '896', '926', '524', '734', '950', '642']\n"
     ]
    },
    {
     "data": {
      "text/plain": [
       "('Maximum Numeric value is', 950)"
      ]
     },
     "execution_count": 76,
     "metadata": {},
     "output_type": "execute_result"
    }
   ],
   "source": [
    "import re\n",
    "\n",
    "def extractMax(input):    \n",
    "    numbers = re.findall('\\d+',input)     \n",
    "    print(numbers)    \n",
    "    numbers = list(map(int,numbers))\n",
    "    \n",
    "    max = numbers[0]\n",
    "    for x in numbers:  \n",
    "         if x > max:\n",
    "            max = x\n",
    "    return \"Maximum Numeric value is\", max \n",
    "\n",
    "input = 'My marks in each semester are: 947, 896, 926, 524, 734, 950, 642' \n",
    "extractMax(input)"
   ]
  },
  {
   "cell_type": "code",
   "execution_count": null,
   "id": "8cfd0add",
   "metadata": {},
   "outputs": [],
   "source": [
    "#Question 23- Create a function in python to insert spaces between words starting with capital letters.\n",
    "Sample Text: “RegularExpressionIsAnImportantTopicInPython\"\n",
    "Expected Output: Regular Expression Is An Important Topic In Python\n"
   ]
  },
  {
   "cell_type": "code",
   "execution_count": 77,
   "id": "9f6bd20c",
   "metadata": {},
   "outputs": [
    {
     "name": "stdout",
     "output_type": "stream",
     "text": [
      "Regular Expression Is An Important Topic In Python\n"
     ]
    }
   ],
   "source": [
    "import re\n",
    "\n",
    "def putspaces1(str1):  \n",
    "    return re.sub(r\"(\\w)([A-Z])\", r\"\\1 \\2\", str1) \n",
    "\n",
    "print(putspaces1(\"RegularExpressionIsAnImportantTopicInPython\")) "
   ]
  },
  {
   "cell_type": "code",
   "execution_count": null,
   "id": "f02823b7",
   "metadata": {},
   "outputs": [],
   "source": [
    "#Question 24- Python regex to find sequences of one upper case letter followed by lower case letters"
   ]
  },
  {
   "cell_type": "code",
   "execution_count": 79,
   "id": "ff79b697",
   "metadata": {},
   "outputs": [
    {
     "name": "stdout",
     "output_type": "stream",
     "text": [
      "Yes\n",
      "Yes\n",
      "No\n"
     ]
    }
   ],
   "source": [
    "import re\n",
    "\n",
    "def match(text):        \n",
    "    pattern = '[A-Z][a-z]*$'\n",
    "    \n",
    "    if re.search(pattern, text):                 \n",
    "            return('Yes')        \n",
    "    else:                \n",
    "            return('No')\n",
    "        \n",
    "print(match(\"Welcome\")) \n",
    "print(match(\"WelcomeHomewelcome Hello Welcome\"))\n",
    "print(match(\"Welcomes you\")) "
   ]
  },
  {
   "cell_type": "code",
   "execution_count": null,
   "id": "e65e216c",
   "metadata": {},
   "outputs": [],
   "source": [
    "#Question 25- Write a Python program to remove continuous duplicate words from Sentence using Regular Expression.\n",
    "Sample Text: \"Hello hello world world\"\n",
    "Expected Output: Hello hello world\n"
   ]
  },
  {
   "cell_type": "code",
   "execution_count": 80,
   "id": "19c08695",
   "metadata": {},
   "outputs": [
    {
     "name": "stdout",
     "output_type": "stream",
     "text": [
      "Hello hello world\n"
     ]
    }
   ],
   "source": [
    "import re\n",
    "\n",
    "def removeDuplicateWords(input):  \n",
    "    \n",
    "    regex = r'\\b(\\w+)(?:\\W+\\1\\b)+'    \n",
    "    return re.sub(regex, r'\\1', input) \n",
    "\n",
    "str1 = \"Hello hello world world\" \n",
    "print(removeDuplicateWords(str1)) "
   ]
  },
  {
   "cell_type": "code",
   "execution_count": null,
   "id": "e97d8964",
   "metadata": {},
   "outputs": [],
   "source": [
    "#Question 26-  Write a python program using RegEx to accept string ending with alphanumeric character."
   ]
  },
  {
   "cell_type": "code",
   "execution_count": 82,
   "id": "afbb9001",
   "metadata": {},
   "outputs": [
    {
     "name": "stdout",
     "output_type": "stream",
     "text": [
      "The string is not ending with an alphanumeric character. \n",
      "\n",
      "The string is ending with an alphanumeric character. \n",
      "\n",
      "The string is not ending with an alphanumeric character. \n",
      "\n",
      "The string is ending with an alphanumeric character. \n",
      "\n"
     ]
    }
   ],
   "source": [
    "import re\n",
    "\n",
    "regex = '[a-zA-z0-9]$'  \n",
    "\n",
    "def check_alpha_numeric(string):    \n",
    "    if(re.search(regex, string)):        \n",
    "        print(\"The string is ending with an alphanumeric character. \\n\") \n",
    "        \n",
    "    else:         \n",
    "        print(\"The string is not ending with an alphanumeric character. \\n\") \n",
    "            \n",
    "            \n",
    "check_alpha_numeric(\"pitchumca@\")\n",
    "check_alpha_numeric(\"pitchumca123\") \n",
    "check_alpha_numeric(\"pitchum.\") \n",
    "check_alpha_numeric(\"staysafeindistancestay\")"
   ]
  },
  {
   "cell_type": "code",
   "execution_count": null,
   "id": "4825d315",
   "metadata": {},
   "outputs": [],
   "source": [
    "#Question 27-Write a python program using RegEx to extract the hashtags.\n",
    "Sample Text:  \"\"\"RT @kapil_kausik: #Doltiwal I mean #xyzabc is \"hurt\" by #Demonetization as the same has rendered USELESS <ed><U+00A0><U+00BD><ed><U+00B1><U+0089> \"acquired funds\" No wo\"\"\"\n",
    "Expected Output: ['#Doltiwal', '#xyzabc', '#Demonetization']\n"
   ]
  },
  {
   "cell_type": "code",
   "execution_count": 84,
   "id": "689c3734",
   "metadata": {},
   "outputs": [
    {
     "name": "stdout",
     "output_type": "stream",
     "text": [
      "\n",
      " Hashtag:\n",
      " ['#Doltiwal', '#xyzabc', '#Demonetization']\n"
     ]
    }
   ],
   "source": [
    "import re\n",
    "\n",
    "text = \"\"\"RT @kapil_kausik: #Doltiwal I mean #xyzabc is \"hurt\" by #Demonetization as the same has rendered USELESS <ed><U+00A0><U+00BD><ed><U+00B1><U+0089> \"acquired funds\" No wo\"\"\"\n",
    "\n",
    "hashtags = re.findall(r\"#[a-zA-Z0-9_]+\", text) \n",
    " \n",
    "print(\"\\n Hashtag:\\n\", hashtags) "
   ]
  },
  {
   "cell_type": "code",
   "execution_count": null,
   "id": "36717ab5",
   "metadata": {},
   "outputs": [],
   "source": [
    "#Question 28- Write a python program using RegEx to remove <U+..> like symbols\n",
    "Check the below sample text, there are strange symbols something of the sort <U+..> all over the place. You need to come up with a general Regex expression that will cover all such symbols.\n",
    "Sample Text: \"@Jags123456 Bharat band on 28??<ed><U+00A0><U+00BD><ed><U+00B8><U+0082>Those who  are protesting #demonetization  are all different party leaders\"\n",
    "Expected Output: @Jags123456 Bharat band on 28??<ed><ed>Those who  are protesting #demonetization  are all different party leaders\n"
   ]
  },
  {
   "cell_type": "code",
   "execution_count": 87,
   "id": "3d3c6c4b",
   "metadata": {},
   "outputs": [
    {
     "name": "stdout",
     "output_type": "stream",
     "text": [
      "\n",
      " Text after:\n",
      " @Jags123456 Bharat band on 28??<ed><ed>Those who are protesting #demonetization  are all different party leaders\n"
     ]
    }
   ],
   "source": [
    "import re\n",
    "\n",
    "text= \"@Jags123456 Bharat band on 28??<ed><U+00A0><U+00BD><ed><U+00B8><U+0082>Those who are protesting #demonetization  are all different party leaders\"\n",
    "clean_text = re.sub(r\"<U\\+[A-Z0-9]+>\", \"\", text)  \n",
    "\n",
    "print(\"\\n Text after:\\n\", clean_text) "
   ]
  },
  {
   "cell_type": "code",
   "execution_count": null,
   "id": "53364c05",
   "metadata": {},
   "outputs": [],
   "source": [
    "#Question 29- Write a python program to extract dates from the text stored in the text file.\n",
    "Sample Text: Ron was born on 12-09-1992 and he was admitted to school 15-12-1999.\n",
    "Note- Store this sample text in the file and then extract dates.\n"
   ]
  },
  {
   "cell_type": "code",
   "execution_count": null,
   "id": "9988d3e6",
   "metadata": {},
   "outputs": [],
   "source": [
    "import re\n"
   ]
  },
  {
   "cell_type": "code",
   "execution_count": null,
   "id": "b2c5484a",
   "metadata": {},
   "outputs": [],
   "source": []
  },
  {
   "cell_type": "code",
   "execution_count": null,
   "id": "03d81ea7",
   "metadata": {},
   "outputs": [],
   "source": [
    "#Question 30- Create a function in python to remove all words from a string of length between 2 and 4.\n",
    "The use of the re.compile() method is mandatory.\n",
    "Sample Text: \"The following example creates an ArrayList with a capacity of 50 elements. 4 elements are then added to the ArrayList and the ArrayList is trimmed accordingly.\"\n",
    "Expected Output:  following example creates ArrayList a capacity elements. 4 elements added ArrayList ArrayList trimmed accordingly.\n"
   ]
  },
  {
   "cell_type": "code",
   "execution_count": 88,
   "id": "1700d36c",
   "metadata": {},
   "outputs": [
    {
     "name": "stdout",
     "output_type": "stream",
     "text": [
      " following example creates  ArrayList  a capacity   elements. 4 elements   added   ArrayList   ArrayList  trimmed accordingly.\n"
     ]
    }
   ],
   "source": [
    "import re\n",
    "\n",
    "def remove_words(str1):   \n",
    "    shortword = re.compile(r'\\b\\w{2,4}\\b')   \n",
    "    print(shortword.sub('', text))  \n",
    "    \n",
    "text = \"The following example creates an ArrayList with a capacity of 50 elements. 4 elements are then added to the ArrayList and the ArrayList is trimmed accordingly.\"\n",
    "remove_words(text) "
   ]
  },
  {
   "cell_type": "code",
   "execution_count": null,
   "id": "e79fb3fd",
   "metadata": {},
   "outputs": [],
   "source": []
  },
  {
   "cell_type": "code",
   "execution_count": null,
   "id": "560a737d",
   "metadata": {},
   "outputs": [],
   "source": []
  },
  {
   "cell_type": "code",
   "execution_count": null,
   "id": "3fb9ea3c",
   "metadata": {},
   "outputs": [],
   "source": []
  }
 ],
 "metadata": {
  "kernelspec": {
   "display_name": "Python 3 (ipykernel)",
   "language": "python",
   "name": "python3"
  },
  "language_info": {
   "codemirror_mode": {
    "name": "ipython",
    "version": 3
   },
   "file_extension": ".py",
   "mimetype": "text/x-python",
   "name": "python",
   "nbconvert_exporter": "python",
   "pygments_lexer": "ipython3",
   "version": "3.11.5"
  }
 },
 "nbformat": 4,
 "nbformat_minor": 5
}
